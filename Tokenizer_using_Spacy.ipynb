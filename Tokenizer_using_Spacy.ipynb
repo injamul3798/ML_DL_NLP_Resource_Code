{
  "nbformat": 4,
  "nbformat_minor": 0,
  "metadata": {
    "colab": {
      "provenance": []
    },
    "kernelspec": {
      "name": "python3",
      "display_name": "Python 3"
    },
    "language_info": {
      "name": "python"
    }
  },
  "cells": [
    {
      "cell_type": "code",
      "source": [
        "import spacy"
      ],
      "metadata": {
        "id": "i0tzGhna6Tfv"
      },
      "execution_count": 1,
      "outputs": []
    },
    {
      "cell_type": "code",
      "execution_count": 2,
      "metadata": {
        "colab": {
          "base_uri": "https://localhost:8080/"
        },
        "id": "NS9eyU6D6DsS",
        "outputId": "1012e73d-5e10-4ce0-fb3b-22fbeb2e1b6e"
      },
      "outputs": [
        {
          "output_type": "execute_result",
          "data": {
            "text/plain": [
              "Explain the concept of attention mechanisms in transformers, including their role in capturing contextual information."
            ]
          },
          "metadata": {},
          "execution_count": 2
        }
      ],
      "source": [
        "# /nlp = spacy.load('en_core_web_sm')\n",
        "# or we can use\n",
        "nlp = spacy.blank('en')    # creates an empty English NLP model.\n",
        "\n",
        "\n",
        "word = nlp('Explain the concept of attention mechanisms in transformers, including their role in capturing contextual information.')\n",
        "word"
      ]
    },
    {
      "cell_type": "code",
      "source": [
        "# Creating blank language object gives a tokenizer and an empty pipeline.\n",
        "for token in word:\n",
        "  print(token)"
      ],
      "metadata": {
        "colab": {
          "base_uri": "https://localhost:8080/"
        },
        "id": "8Us3XIGq6r9M",
        "outputId": "e5fed6be-53e2-42ef-daa0-6103a7183651"
      },
      "execution_count": 3,
      "outputs": [
        {
          "output_type": "stream",
          "name": "stdout",
          "text": [
            "Explain\n",
            "the\n",
            "concept\n",
            "of\n",
            "attention\n",
            "mechanisms\n",
            "in\n",
            "transformers\n",
            ",\n",
            "including\n",
            "their\n",
            "role\n",
            "in\n",
            "capturing\n",
            "contextual\n",
            "information\n",
            ".\n"
          ]
        }
      ]
    },
    {
      "cell_type": "code",
      "source": [
        "print(type(nlp))"
      ],
      "metadata": {
        "colab": {
          "base_uri": "https://localhost:8080/"
        },
        "id": "GzlJ9PAs7fzI",
        "outputId": "c37d8108-e8c1-4055-b3e3-169952734427"
      },
      "execution_count": 4,
      "outputs": [
        {
          "output_type": "stream",
          "name": "stdout",
          "text": [
            "<class 'spacy.lang.en.English'>\n"
          ]
        }
      ]
    },
    {
      "cell_type": "code",
      "source": [
        "test = 'Injam loves coding'\n",
        "print(test[:5])"
      ],
      "metadata": {
        "colab": {
          "base_uri": "https://localhost:8080/"
        },
        "id": "-rm-jxAZ8A2n",
        "outputId": "9e23b2b6-c341-4f4d-9a87-de97d32c007f"
      },
      "execution_count": 5,
      "outputs": [
        {
          "output_type": "stream",
          "name": "stdout",
          "text": [
            "Injam\n"
          ]
        }
      ]
    },
    {
      "cell_type": "code",
      "source": [
        "span = word[0:5]\n",
        "span"
      ],
      "metadata": {
        "colab": {
          "base_uri": "https://localhost:8080/"
        },
        "id": "W6EtZ1yg7w7M",
        "outputId": "77758db5-c541-418e-a616-531e66a60f2d"
      },
      "execution_count": 6,
      "outputs": [
        {
          "output_type": "execute_result",
          "data": {
            "text/plain": [
              "Explain the concept of attention"
            ]
          },
          "metadata": {},
          "execution_count": 6
        }
      ]
    },
    {
      "cell_type": "code",
      "source": [
        "word1 = word[0]\n",
        "print(word1)"
      ],
      "metadata": {
        "colab": {
          "base_uri": "https://localhost:8080/"
        },
        "id": "LY_MoX4j78mL",
        "outputId": "c0aa6737-df5e-4bca-c0ac-e1502d7699cc"
      },
      "execution_count": 7,
      "outputs": [
        {
          "output_type": "stream",
          "name": "stdout",
          "text": [
            "Explain\n"
          ]
        }
      ]
    },
    {
      "cell_type": "code",
      "source": [
        "word1.is_alpha"
      ],
      "metadata": {
        "colab": {
          "base_uri": "https://localhost:8080/"
        },
        "id": "zWKXzCVh8TGj",
        "outputId": "68269895-c516-40b9-e40a-71577d21cdb4"
      },
      "execution_count": 8,
      "outputs": [
        {
          "output_type": "execute_result",
          "data": {
            "text/plain": [
              "True"
            ]
          },
          "metadata": {},
          "execution_count": 8
        }
      ]
    },
    {
      "cell_type": "code",
      "source": [
        "word1.is_bracket"
      ],
      "metadata": {
        "colab": {
          "base_uri": "https://localhost:8080/"
        },
        "id": "xN7LafTI8fPP",
        "outputId": "00f09e6c-eabf-4f78-d2a1-4a6be89aa46a"
      },
      "execution_count": 9,
      "outputs": [
        {
          "output_type": "execute_result",
          "data": {
            "text/plain": [
              "False"
            ]
          },
          "metadata": {},
          "execution_count": 9
        }
      ]
    },
    {
      "cell_type": "code",
      "source": [
        "word1.is_lower"
      ],
      "metadata": {
        "colab": {
          "base_uri": "https://localhost:8080/"
        },
        "id": "b-iDOnB-8xZx",
        "outputId": "27158f41-4083-40dc-90fd-12b8d2e11d7d"
      },
      "execution_count": 10,
      "outputs": [
        {
          "output_type": "execute_result",
          "data": {
            "text/plain": [
              "False"
            ]
          },
          "metadata": {},
          "execution_count": 10
        }
      ]
    },
    {
      "cell_type": "code",
      "source": [
        "word1.is_title"
      ],
      "metadata": {
        "colab": {
          "base_uri": "https://localhost:8080/"
        },
        "id": "dElXfBdV80Ei",
        "outputId": "ec3a34bf-3f95-4614-a6ad-1f1eb18a83d0"
      },
      "execution_count": 11,
      "outputs": [
        {
          "output_type": "execute_result",
          "data": {
            "text/plain": [
              "True"
            ]
          },
          "metadata": {},
          "execution_count": 11
        }
      ]
    },
    {
      "cell_type": "code",
      "source": [
        "word1.like_num"
      ],
      "metadata": {
        "colab": {
          "base_uri": "https://localhost:8080/"
        },
        "id": "zCkMHs3b83Uy",
        "outputId": "d9416dfb-3136-45bd-fd40-66dbeffa693d"
      },
      "execution_count": 12,
      "outputs": [
        {
          "output_type": "execute_result",
          "data": {
            "text/plain": [
              "False"
            ]
          },
          "metadata": {},
          "execution_count": 12
        }
      ]
    },
    {
      "cell_type": "code",
      "source": [
        "word1.like_email"
      ],
      "metadata": {
        "colab": {
          "base_uri": "https://localhost:8080/"
        },
        "id": "qWj67sew8537",
        "outputId": "eedf9c64-5909-4a21-c24c-4cf8f768640d"
      },
      "execution_count": 13,
      "outputs": [
        {
          "output_type": "execute_result",
          "data": {
            "text/plain": [
              "False"
            ]
          },
          "metadata": {},
          "execution_count": 13
        }
      ]
    },
    {
      "cell_type": "code",
      "source": [
        "for token in word:\n",
        "  print(f'{token} is Is_Alpha: {token.is_alpha} ,Is_Num:{token.like_num}')"
      ],
      "metadata": {
        "colab": {
          "base_uri": "https://localhost:8080/"
        },
        "id": "EzH74dUG88rx",
        "outputId": "66138dc0-73e5-44a9-8d9b-b01349371c75"
      },
      "execution_count": 14,
      "outputs": [
        {
          "output_type": "stream",
          "name": "stdout",
          "text": [
            "Explain is Is_Alpha: True ,Is_Num:False\n",
            "the is Is_Alpha: True ,Is_Num:False\n",
            "concept is Is_Alpha: True ,Is_Num:False\n",
            "of is Is_Alpha: True ,Is_Num:False\n",
            "attention is Is_Alpha: True ,Is_Num:False\n",
            "mechanisms is Is_Alpha: True ,Is_Num:False\n",
            "in is Is_Alpha: True ,Is_Num:False\n",
            "transformers is Is_Alpha: True ,Is_Num:False\n",
            ", is Is_Alpha: False ,Is_Num:False\n",
            "including is Is_Alpha: True ,Is_Num:False\n",
            "their is Is_Alpha: True ,Is_Num:False\n",
            "role is Is_Alpha: True ,Is_Num:False\n",
            "in is Is_Alpha: True ,Is_Num:False\n",
            "capturing is Is_Alpha: True ,Is_Num:False\n",
            "contextual is Is_Alpha: True ,Is_Num:False\n",
            "information is Is_Alpha: True ,Is_Num:False\n",
            ". is Is_Alpha: False ,Is_Num:False\n"
          ]
        }
      ]
    },
    {
      "cell_type": "code",
      "source": [],
      "metadata": {
        "id": "2fWua-t1-I1n"
      },
      "execution_count": 14,
      "outputs": []
    },
    {
      "cell_type": "code",
      "source": [
        "students_info = nlp('''John Doe, john.doe@example.com\n",
        "Jane Smith, jane.smith@example.com\n",
        "Michael Johnson, michael.johnson@example.com\n",
        "Emily Davis, emily.davis@example.com\n",
        "David Wilson, david.wilson@example.com\n",
        "Sarah Brown, sarah.brown@example.com\n",
        "James Taylor, james.taylor@example.com\n",
        "Linda Martinez, linda.martinez@example.com\n",
        "Robert Anderson, robert.anderson@example.com\n",
        "Patricia Thomas, patricia.thomas@example.com''')\n",
        "\n",
        "extracted_email = []\n",
        "for token in students_info:\n",
        "  if token.like_email:\n",
        "    extracted_email.append(token)\n",
        "extracted_email\n"
      ],
      "metadata": {
        "colab": {
          "base_uri": "https://localhost:8080/"
        },
        "id": "VUCctSSc-Iql",
        "outputId": "b160b990-f180-4959-cc77-4fc69f163fd5"
      },
      "execution_count": 15,
      "outputs": [
        {
          "output_type": "execute_result",
          "data": {
            "text/plain": [
              "[john.doe@example.com,\n",
              " jane.smith@example.com,\n",
              " michael.johnson@example.com,\n",
              " emily.davis@example.com,\n",
              " david.wilson@example.com,\n",
              " sarah.brown@example.com,\n",
              " james.taylor@example.com,\n",
              " linda.martinez@example.com,\n",
              " robert.anderson@example.com,\n",
              " patricia.thomas@example.com]"
            ]
          },
          "metadata": {},
          "execution_count": 15
        }
      ]
    },
    {
      "cell_type": "code",
      "source": [
        "nlp = spacy.load(\"en_core_web_sm\")\n",
        "\n",
        "sentence = nlp(\"Injam likes to play cricket. He also loves to play football\")\n",
        "for sentence_token in sentence.sents:\n",
        "  print(sentence_token)"
      ],
      "metadata": {
        "id": "9I1xbcpP-w4X",
        "colab": {
          "base_uri": "https://localhost:8080/"
        },
        "outputId": "1c430354-3ba8-44a8-9c48-8d349e7d75bd"
      },
      "execution_count": 22,
      "outputs": [
        {
          "output_type": "stream",
          "name": "stdout",
          "text": [
            "Injam likes to play cricket.\n",
            "He also loves to play football\n"
          ]
        }
      ]
    },
    {
      "cell_type": "code",
      "source": [
        "# If you want to use nlp.blank('en) model\n",
        "# then you need add a pipe\n",
        "nlp_blank_en = spacy.blank('en')\n",
        "\n",
        "nlp_blank_en.add_pipe('sentencizer')\n",
        "sentence = nlp_blank_en(\"Injam likes to play cricket. He also loves to play football\")\n",
        "for sentence_token in sentence.sents:\n",
        "  print(sentence_token)"
      ],
      "metadata": {
        "colab": {
          "base_uri": "https://localhost:8080/"
        },
        "id": "A38aJ5-GG0g4",
        "outputId": "49e7c272-c8cc-4a77-b07b-f63be9260679"
      },
      "execution_count": 23,
      "outputs": [
        {
          "output_type": "stream",
          "name": "stdout",
          "text": [
            "Injam likes to play cricket.\n",
            "He also loves to play football\n"
          ]
        }
      ]
    },
    {
      "cell_type": "code",
      "source": [],
      "metadata": {
        "id": "xScVeRkvHGUD"
      },
      "execution_count": null,
      "outputs": []
    }
  ]
}